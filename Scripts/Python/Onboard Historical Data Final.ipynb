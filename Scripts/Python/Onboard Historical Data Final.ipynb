{
 "cells": [
  {
   "cell_type": "markdown",
   "metadata": {},
   "source": [
    "### <div style=\"text-align:center\"> Onboard Historical Data </div>"
   ]
  },
  {
   "cell_type": "code",
   "execution_count": 18,
   "metadata": {},
   "outputs": [],
   "source": [
    "# importing required libraries\n",
    "import pandas as pd\n",
    "import mysql.connector\n",
    "import pymysql\n",
    "from mysql.connector import errorcode\n",
    "from sqlalchemy import create_engine\n",
    "import boto3\n",
    "import s3fs\n",
    "import datetime as dt\n",
    "from datetime import datetime"
   ]
  },
  {
   "cell_type": "markdown",
   "metadata": {},
   "source": [
    "Import five fiscal years of Yeshiva University's giving data from July 1, 2015 through June 30, 2020.  The fiscal year runs from July 1st to June 30th.  For example, fiscal year 2016 corresponds to July 1, 2015 to June 30, 2016."
   ]
  },
  {
   "cell_type": "code",
   "execution_count": 19,
   "metadata": {},
   "outputs": [
    {
     "name": "stdout",
     "output_type": "stream",
     "text": [
      "(57765, 17)\n"
     ]
    },
    {
     "data": {
      "text/html": [
       "<div>\n",
       "<style scoped>\n",
       "    .dataframe tbody tr th:only-of-type {\n",
       "        vertical-align: middle;\n",
       "    }\n",
       "\n",
       "    .dataframe tbody tr th {\n",
       "        vertical-align: top;\n",
       "    }\n",
       "\n",
       "    .dataframe thead th {\n",
       "        text-align: right;\n",
       "    }\n",
       "</style>\n",
       "<table border=\"1\" class=\"dataframe\">\n",
       "  <thead>\n",
       "    <tr style=\"text-align: right;\">\n",
       "      <th></th>\n",
       "      <th>FakeID</th>\n",
       "      <th>PrimaryAffiliation</th>\n",
       "      <th>PersonOrg</th>\n",
       "      <th>City</th>\n",
       "      <th>State</th>\n",
       "      <th>Zip</th>\n",
       "      <th>FiscalYear</th>\n",
       "      <th>ContributionDate</th>\n",
       "      <th>Amount</th>\n",
       "      <th>ContributionType</th>\n",
       "      <th>DesignationCode</th>\n",
       "      <th>DesignationName</th>\n",
       "      <th>VSEPurpose</th>\n",
       "      <th>College</th>\n",
       "      <th>DesignationType</th>\n",
       "      <th>DesignationPurpose</th>\n",
       "      <th>PaymentType</th>\n",
       "    </tr>\n",
       "  </thead>\n",
       "  <tbody>\n",
       "    <tr>\n",
       "      <th>0</th>\n",
       "      <td>8363</td>\n",
       "      <td>Alum</td>\n",
       "      <td>P</td>\n",
       "      <td>West Orange</td>\n",
       "      <td>NJ</td>\n",
       "      <td>7052</td>\n",
       "      <td>2016</td>\n",
       "      <td>7/1/2015</td>\n",
       "      <td>500</td>\n",
       "      <td>Gift</td>\n",
       "      <td>AF08</td>\n",
       "      <td>RIETS Annual Fund</td>\n",
       "      <td>3A02 - Academic Divisions</td>\n",
       "      <td>RIETS</td>\n",
       "      <td>Unrestricted</td>\n",
       "      <td>Annual Fund</td>\n",
       "      <td>Credit Card (American Express)</td>\n",
       "    </tr>\n",
       "    <tr>\n",
       "      <th>1</th>\n",
       "      <td>7205</td>\n",
       "      <td>Alum</td>\n",
       "      <td>P</td>\n",
       "      <td>New York</td>\n",
       "      <td>NY</td>\n",
       "      <td>10014</td>\n",
       "      <td>2016</td>\n",
       "      <td>7/1/2015</td>\n",
       "      <td>250</td>\n",
       "      <td>Gift</td>\n",
       "      <td>AF04</td>\n",
       "      <td>Benjamin N. Cardozo School of Law Annual Fund</td>\n",
       "      <td>3A02 - Academic Divisions</td>\n",
       "      <td>Cardozo School of Law</td>\n",
       "      <td>Unrestricted</td>\n",
       "      <td>Annual Fund</td>\n",
       "      <td>Credit Card (VISA)</td>\n",
       "    </tr>\n",
       "    <tr>\n",
       "      <th>2</th>\n",
       "      <td>10976</td>\n",
       "      <td>Parent of Past Student</td>\n",
       "      <td>P</td>\n",
       "      <td>Bronx</td>\n",
       "      <td>NY</td>\n",
       "      <td>10463</td>\n",
       "      <td>2016</td>\n",
       "      <td>7/1/2015</td>\n",
       "      <td>100</td>\n",
       "      <td>Gift</td>\n",
       "      <td>B313</td>\n",
       "      <td>The Jay Stepelman Memorial Award for Excellenc...</td>\n",
       "      <td>NaN</td>\n",
       "      <td>YU Boys High School</td>\n",
       "      <td>Restricted</td>\n",
       "      <td>NaN</td>\n",
       "      <td>Credit Card (VISA)</td>\n",
       "    </tr>\n",
       "    <tr>\n",
       "      <th>3</th>\n",
       "      <td>18472</td>\n",
       "      <td>Friend</td>\n",
       "      <td>P</td>\n",
       "      <td>Great Neck</td>\n",
       "      <td>NY</td>\n",
       "      <td>11023</td>\n",
       "      <td>2016</td>\n",
       "      <td>7/1/2015</td>\n",
       "      <td>10</td>\n",
       "      <td>Gift</td>\n",
       "      <td>GU06</td>\n",
       "      <td>Yeshiva University Hs for Girls General Unrest...</td>\n",
       "      <td>NaN</td>\n",
       "      <td>YU Girls High School</td>\n",
       "      <td>Unrestricted</td>\n",
       "      <td>Annual Fund</td>\n",
       "      <td>Credit Card (American Express)</td>\n",
       "    </tr>\n",
       "    <tr>\n",
       "      <th>4</th>\n",
       "      <td>11833</td>\n",
       "      <td>Alum</td>\n",
       "      <td>P</td>\n",
       "      <td>Forest Hills</td>\n",
       "      <td>NY</td>\n",
       "      <td>11375</td>\n",
       "      <td>2016</td>\n",
       "      <td>7/1/2015</td>\n",
       "      <td>25</td>\n",
       "      <td>Gift</td>\n",
       "      <td>GU06</td>\n",
       "      <td>Yeshiva University Hs for Girls General Unrest...</td>\n",
       "      <td>NaN</td>\n",
       "      <td>YU Girls High School</td>\n",
       "      <td>Unrestricted</td>\n",
       "      <td>Annual Fund</td>\n",
       "      <td>Credit Card (American Express)</td>\n",
       "    </tr>\n",
       "  </tbody>\n",
       "</table>\n",
       "</div>"
      ],
      "text/plain": [
       "   FakeID      PrimaryAffiliation PersonOrg          City State    Zip  \\\n",
       "0    8363                    Alum         P   West Orange    NJ   7052   \n",
       "1    7205                    Alum         P      New York    NY  10014   \n",
       "2   10976  Parent of Past Student         P         Bronx    NY  10463   \n",
       "3   18472                  Friend         P    Great Neck    NY  11023   \n",
       "4   11833                    Alum         P  Forest Hills    NY  11375   \n",
       "\n",
       "   FiscalYear ContributionDate  Amount ContributionType DesignationCode  \\\n",
       "0        2016         7/1/2015     500             Gift            AF08   \n",
       "1        2016         7/1/2015     250             Gift            AF04   \n",
       "2        2016         7/1/2015     100             Gift            B313   \n",
       "3        2016         7/1/2015      10             Gift            GU06   \n",
       "4        2016         7/1/2015      25             Gift            GU06   \n",
       "\n",
       "                                     DesignationName  \\\n",
       "0                                  RIETS Annual Fund   \n",
       "1      Benjamin N. Cardozo School of Law Annual Fund   \n",
       "2  The Jay Stepelman Memorial Award for Excellenc...   \n",
       "3  Yeshiva University Hs for Girls General Unrest...   \n",
       "4  Yeshiva University Hs for Girls General Unrest...   \n",
       "\n",
       "                  VSEPurpose                College DesignationType  \\\n",
       "0  3A02 - Academic Divisions                  RIETS    Unrestricted   \n",
       "1  3A02 - Academic Divisions  Cardozo School of Law    Unrestricted   \n",
       "2                        NaN    YU Boys High School      Restricted   \n",
       "3                        NaN   YU Girls High School    Unrestricted   \n",
       "4                        NaN   YU Girls High School    Unrestricted   \n",
       "\n",
       "  DesignationPurpose                     PaymentType  \n",
       "0        Annual Fund  Credit Card (American Express)  \n",
       "1        Annual Fund              Credit Card (VISA)  \n",
       "2                NaN              Credit Card (VISA)  \n",
       "3        Annual Fund  Credit Card (American Express)  \n",
       "4        Annual Fund  Credit Card (American Express)  "
      ]
     },
     "execution_count": 19,
     "metadata": {},
     "output_type": "execute_result"
    }
   ],
   "source": [
    "#Insert your path name to your 5_Year_Giving.csv historical data file.  Print the shape of the data set and view the header \n",
    "#to make sure the data looks as expected.\n",
    "\n",
    "df = pd.read_csv (r'https://raw.githubusercontent.com/Danjstr/donors_dw/main/raw%20datasets/5_Year_Giving.csv', encoding='latin-1')\n",
    "print (df.shape)\n",
    "df.head()"
   ]
  },
  {
   "cell_type": "markdown",
   "metadata": {},
   "source": [
    "We need to clean up the dataset before we can use it."
   ]
  },
  {
   "cell_type": "markdown",
   "metadata": {},
   "source": [
    "Albert Einstein Medical School separated from Yeshiva University in 2015.  We want to remove any gifts to the College Albert Einstein Medical School since they are no longer a part of the university."
   ]
  },
  {
   "cell_type": "code",
   "execution_count": 20,
   "metadata": {},
   "outputs": [
    {
     "name": "stdout",
     "output_type": "stream",
     "text": [
      "(57239, 17)\n"
     ]
    }
   ],
   "source": [
    "#Print the shape of the dataset to ensure that the rows containing Albert Einstein have been removed.\n",
    "\n",
    "index_names = df[df['College'] == 'Albert Einstein College of Med'].index\n",
    "df.drop(index_names, inplace = True)\n",
    "print (df.shape)"
   ]
  },
  {
   "cell_type": "markdown",
   "metadata": {},
   "source": [
    "526 donations to Albert Einstein Medical School were removed."
   ]
  },
  {
   "cell_type": "markdown",
   "metadata": {},
   "source": [
    "Change the colleges 'YU Girls High School' and 'YU Boys High School' to 'High Schools (combined)'."
   ]
  },
  {
   "cell_type": "code",
   "execution_count": 21,
   "metadata": {},
   "outputs": [
    {
     "data": {
      "text/plain": [
       "Yeshiva University               20846\n",
       "RIETS                            12555\n",
       "Cardozo School of Law             7622\n",
       "High Schools (combined)           5969\n",
       "Center for the Jewish Future      2452\n",
       "Stern College for Women           2197\n",
       "Undergraduate                     1184\n",
       "Ferkauf Grad School of Psych      1065\n",
       "Yeshiva College                   1029\n",
       "Wurzweiler School of Soc Work      849\n",
       "Sy Syms School of Business         425\n",
       "Yeshiva University Museum          404\n",
       "Azrieli Grad School of J Edu       231\n",
       "Bernard Revel Graduate School      185\n",
       "University-School Partnership       87\n",
       "Belz School of Jewish Music         67\n",
       "The Katz School                     53\n",
       "James Striar School                 16\n",
       "Undergraduate Men                    3\n",
       "Name: College, dtype: int64"
      ]
     },
     "execution_count": 21,
     "metadata": {},
     "output_type": "execute_result"
    }
   ],
   "source": [
    "df['College'] = df['College'].replace(['YU Girls High School','YU Boys High School'],\n",
    "                                    ['High Schools (combined)','High Schools (combined)'])\n",
    "                                                                                 \n",
    "df['College'].value_counts()"
   ]
  },
  {
   "cell_type": "markdown",
   "metadata": {},
   "source": [
    "Combine the college 'Undergraduate Men' with 'Undergraduate'"
   ]
  },
  {
   "cell_type": "code",
   "execution_count": 22,
   "metadata": {},
   "outputs": [
    {
     "data": {
      "text/plain": [
       "Yeshiva University               20846\n",
       "RIETS                            12555\n",
       "Cardozo School of Law             7622\n",
       "High Schools (combined)           5969\n",
       "Center for the Jewish Future      2452\n",
       "Stern College for Women           2197\n",
       "Undergraduate                     1187\n",
       "Ferkauf Grad School of Psych      1065\n",
       "Yeshiva College                   1029\n",
       "Wurzweiler School of Soc Work      849\n",
       "Sy Syms School of Business         425\n",
       "Yeshiva University Museum          404\n",
       "Azrieli Grad School of J Edu       231\n",
       "Bernard Revel Graduate School      185\n",
       "University-School Partnership       87\n",
       "Belz School of Jewish Music         67\n",
       "The Katz School                     53\n",
       "James Striar School                 16\n",
       "Name: College, dtype: int64"
      ]
     },
     "execution_count": 22,
     "metadata": {},
     "output_type": "execute_result"
    }
   ],
   "source": [
    "df['College'] = df['College'].replace(['Undergraduate Men'],['Undergraduate'])\n",
    "                                                                                 \n",
    "df['College'].value_counts()"
   ]
  },
  {
   "cell_type": "markdown",
   "metadata": {},
   "source": [
    "Remove any payment type called \"Goods\".  This refers to payments collected for goods & services which is a used to cover food at an event and cannot be counted as a charitable donation. "
   ]
  },
  {
   "cell_type": "code",
   "execution_count": 23,
   "metadata": {},
   "outputs": [
    {
     "name": "stdout",
     "output_type": "stream",
     "text": [
      "(57157, 17)\n"
     ]
    },
    {
     "data": {
      "text/plain": [
       "Cash or Check                     18071\n",
       "Credit Card (VISA)                13469\n",
       "Credit Card (American Express)     6694\n",
       "Credit Card (Master Card)          5334\n",
       "Lockbox Holding                    3302\n",
       "Canadian Friends of YU             3090\n",
       "Wire Transfer                      3016\n",
       "Cash/Check                         1375\n",
       "Canadian Cash                      1022\n",
       "Payroll Deduction                   628\n",
       "Matching Gift                       380\n",
       "Bequest Realized                    234\n",
       "Assets deposited in advance         154\n",
       "Stocks and Securities               139\n",
       "Matching Wire Transfer               72\n",
       "Credit Card (Discover)               67\n",
       "Israel Retained Cash                 57\n",
       "Grants                               32\n",
       "Bequest Wired                         8\n",
       "Stock                                 5\n",
       "Electronic Funds Transfer             4\n",
       "Paper Credits                         3\n",
       "Conditional Gift                      1\n",
       "Name: PaymentType, dtype: int64"
      ]
     },
     "execution_count": 23,
     "metadata": {},
     "output_type": "execute_result"
    }
   ],
   "source": [
    "#Print the shape of the dataset to make sure the \"goods\" rows were removed.\n",
    "\n",
    "discard = [\"Goods\"]\n",
    "df2 = df[~df['PaymentType'].str.contains('|'.join(discard))]\n",
    "print (df2.shape)\n",
    "df2['PaymentType'].value_counts()"
   ]
  },
  {
   "cell_type": "markdown",
   "metadata": {},
   "source": [
    "407 goods & services payment types were removed from the dataset."
   ]
  },
  {
   "cell_type": "markdown",
   "metadata": {},
   "source": [
    "Combine payment types where appropriate. <br>\n",
    "1) Cash/Check into Cash or Cash.<br> \n",
    "2) Credit Card (VISA), Credit Card (Master Card), Credit Card (Discover), Credit Card (American Express) into Credit Card. <br>\n",
    "3) Bequest Wired into Bequest Realized.<br> \n",
    "4) Matching Wire Transfer into Matching Gift. <br>\n",
    "5) Canadian Friends of YU into Cash or Check. <br>\n",
    "6) Israel Retained Cash into Cash or Check. <br>\n",
    "7) Canadian Cash into Cash or Check. <br>\n",
    "8) Stock into Stocks and Securities. <br>\n",
    "9) Electronic Funds Transfer into Wire Transfer.<br>"
   ]
  },
  {
   "cell_type": "code",
   "execution_count": 24,
   "metadata": {},
   "outputs": [
    {
     "name": "stderr",
     "output_type": "stream",
     "text": [
      "<ipython-input-24-bd37c6678860>:3: SettingWithCopyWarning: \n",
      "A value is trying to be set on a copy of a slice from a DataFrame.\n",
      "Try using .loc[row_indexer,col_indexer] = value instead\n",
      "\n",
      "See the caveats in the documentation: https://pandas.pydata.org/pandas-docs/stable/user_guide/indexing.html#returning-a-view-versus-a-copy\n",
      "  df2['PaymentType'] = df2['PaymentType'].replace(['Cash/Check','Credit Card (VISA)','Credit Card (Master Card)',\n"
     ]
    },
    {
     "data": {
      "text/plain": [
       "Credit Card                    25564\n",
       "Cash or Check                  23615\n",
       "Lockbox Holding                 3302\n",
       "Wire Transfer                   3020\n",
       "Payroll Deduction                628\n",
       "Matching Gift                    452\n",
       "Bequest Realized                 242\n",
       "Assets deposited in advance      154\n",
       "Stocks and Securities            144\n",
       "Grants                            32\n",
       "Paper Credits                      3\n",
       "Conditional Gift                   1\n",
       "Name: PaymentType, dtype: int64"
      ]
     },
     "execution_count": 24,
     "metadata": {},
     "output_type": "execute_result"
    }
   ],
   "source": [
    "#View the Payment Type counts to see how they have been condensed.\n",
    "\n",
    "df2['PaymentType'] = df2['PaymentType'].replace(['Cash/Check','Credit Card (VISA)','Credit Card (Master Card)',\n",
    "                                                 'Credit Card (Discover)','Credit Card (American Express)','Bequest Wired',\n",
    "                                                 'Matching Wire Transfer','Canadian Friends of YU', 'Israel Retained Cash',\n",
    "                                                'Canadian Cash','Stock','Electronic Funds Transfer'],\n",
    "                                                ['Cash or Check','Credit Card','Credit Card','Credit Card','Credit Card',\n",
    "                                                 'Bequest Realized','Matching Gift','Cash or Check','Cash or Check',\n",
    "                                                 'Cash or Check','Stocks and Securities','Wire Transfer'])\n",
    "                                               \n",
    "                                               \n",
    "df2['PaymentType'].value_counts()"
   ]
  },
  {
   "cell_type": "markdown",
   "metadata": {},
   "source": [
    "We went from 23 payment types to 12."
   ]
  },
  {
   "cell_type": "code",
   "execution_count": 25,
   "metadata": {},
   "outputs": [
    {
     "data": {
      "text/html": [
       "<div>\n",
       "<style scoped>\n",
       "    .dataframe tbody tr th:only-of-type {\n",
       "        vertical-align: middle;\n",
       "    }\n",
       "\n",
       "    .dataframe tbody tr th {\n",
       "        vertical-align: top;\n",
       "    }\n",
       "\n",
       "    .dataframe thead th {\n",
       "        text-align: right;\n",
       "    }\n",
       "</style>\n",
       "<table border=\"1\" class=\"dataframe\">\n",
       "  <thead>\n",
       "    <tr style=\"text-align: right;\">\n",
       "      <th></th>\n",
       "      <th>FakeID</th>\n",
       "      <th>PrimaryAffiliation</th>\n",
       "      <th>PersonOrg</th>\n",
       "      <th>City</th>\n",
       "      <th>State</th>\n",
       "      <th>Zip</th>\n",
       "      <th>FiscalYear</th>\n",
       "      <th>ContributionDate</th>\n",
       "      <th>Amount</th>\n",
       "      <th>ContributionType</th>\n",
       "      <th>DesignationCode</th>\n",
       "      <th>DesignationName</th>\n",
       "      <th>VSEPurpose</th>\n",
       "      <th>College</th>\n",
       "      <th>DesignationType</th>\n",
       "      <th>DesignationPurpose</th>\n",
       "      <th>PaymentType</th>\n",
       "    </tr>\n",
       "  </thead>\n",
       "  <tbody>\n",
       "    <tr>\n",
       "      <th>0</th>\n",
       "      <td>8363</td>\n",
       "      <td>Alum</td>\n",
       "      <td>P</td>\n",
       "      <td>West Orange</td>\n",
       "      <td>NJ</td>\n",
       "      <td>7052</td>\n",
       "      <td>2016</td>\n",
       "      <td>7/1/2015</td>\n",
       "      <td>500</td>\n",
       "      <td>Gift</td>\n",
       "      <td>AF08</td>\n",
       "      <td>RIETS Annual Fund</td>\n",
       "      <td>3A02 - Academic Divisions</td>\n",
       "      <td>RIETS</td>\n",
       "      <td>Unrestricted</td>\n",
       "      <td>Annual Fund</td>\n",
       "      <td>Credit Card</td>\n",
       "    </tr>\n",
       "  </tbody>\n",
       "</table>\n",
       "</div>"
      ],
      "text/plain": [
       "   FakeID PrimaryAffiliation PersonOrg         City State   Zip  FiscalYear  \\\n",
       "0    8363               Alum         P  West Orange    NJ  7052        2016   \n",
       "\n",
       "  ContributionDate  Amount ContributionType DesignationCode  \\\n",
       "0         7/1/2015     500             Gift            AF08   \n",
       "\n",
       "     DesignationName                 VSEPurpose College DesignationType  \\\n",
       "0  RIETS Annual Fund  3A02 - Academic Divisions   RIETS    Unrestricted   \n",
       "\n",
       "  DesignationPurpose  PaymentType  \n",
       "0        Annual Fund  Credit Card  "
      ]
     },
     "execution_count": 25,
     "metadata": {},
     "output_type": "execute_result"
    }
   ],
   "source": [
    "# renaiming columns for analysis \n",
    "\n",
    "df2 = df2.rename(columns={\"Person/Org\":\"PersonOrg\"})\n",
    "\n",
    "# confirming update\n",
    "df2.head(1)"
   ]
  },
  {
   "cell_type": "markdown",
   "metadata": {},
   "source": [
    "## Sending Dataframe to S3 Bucket (Archive)"
   ]
  },
  {
   "cell_type": "code",
   "execution_count": 26,
   "metadata": {},
   "outputs": [],
   "source": [
    "# creating a variable that stores date to be append on the file to be archive\n",
    "today = dt.datetime.today()\n",
    "date = today.strftime(\"%Y%m%d\")"
   ]
  },
  {
   "cell_type": "code",
   "execution_count": 27,
   "metadata": {},
   "outputs": [
    {
     "name": "stdout",
     "output_type": "stream",
     "text": [
      "Successfull uploaded file to location:s3://yu-donation-bucket/donations20210510.csv\n"
     ]
    }
   ],
   "source": [
    "#connect and load the historical data file to s3\n",
    "\n",
    "s3pathName = 's3://yu-donation-bucket/'\n",
    "FileNameFullPath = 'donations' \n",
    "filenames3 = \"%s%s%s.csv\"%(s3pathName,FileNameFullPath,date) #name of the filepath and csv file\n",
    "\n",
    "df2.to_csv(filenames3, header=True, line_terminator='\\n') \n",
    "\n",
    "#print success message\n",
    "print(\"Successfull uploaded file to location:\"+str(filenames3))"
   ]
  },
  {
   "cell_type": "markdown",
   "metadata": {},
   "source": [
    "## Connect to MySQL Workbench"
   ]
  },
  {
   "cell_type": "code",
   "execution_count": 28,
   "metadata": {},
   "outputs": [],
   "source": [
    "# credentials for connecting to MySQL\n",
    "\n",
    "host_name = \"database-1.cvt3j4afpbrp.us-east-1.rds.amazonaws.com\"\n",
    "db_name = \"staging_db\"\n",
    "u_name = \"admin\"\n",
    "pwd = \"Joli2016!\""
   ]
  },
  {
   "cell_type": "code",
   "execution_count": 29,
   "metadata": {},
   "outputs": [
    {
     "name": "stdout",
     "output_type": "stream",
     "text": [
      "Connected to database.\n"
     ]
    }
   ],
   "source": [
    "# create SQLAlchemy engine to connect to MySQL Database\n",
    "engine = create_engine(\"mysql+pymysql://{user}:{pw}@{host}/{db}\"\n",
    "                       .format(host=host_name, db=db_name, user=u_name, pw=pwd))\n",
    "\n",
    "# connect to server\n",
    "connection = mysql.connector.connect(user=u_name, password=pwd,host= host_name, port ='3306')\n",
    "print('Connected to database.')\n",
    "cursor = connection.cursor()"
   ]
  },
  {
   "cell_type": "markdown",
   "metadata": {},
   "source": [
    "### Loading Donation Staging Table"
   ]
  },
  {
   "cell_type": "code",
   "execution_count": 30,
   "metadata": {},
   "outputs": [
    {
     "name": "stdout",
     "output_type": "stream",
     "text": [
      "Donation staging table (donation_stg) cleared.\n"
     ]
    }
   ],
   "source": [
    "# call store procedure to delete data from the donation staging table\n",
    "connection.commit()\n",
    "cursor.callproc('staging_db.del_donation')\n",
    "print(\"Donation staging table (donation_stg) cleared.\")"
   ]
  },
  {
   "cell_type": "code",
   "execution_count": 31,
   "metadata": {},
   "outputs": [
    {
     "name": "stdout",
     "output_type": "stream",
     "text": [
      "Donation staging table (donation_stg) loaded.\n"
     ]
    }
   ],
   "source": [
    "# loading the donation staging table (donation_stg) in the staging database\n",
    "connection.commit()\n",
    "df2.to_sql('donation_stg', engine, if_exists='append', index=False)\n",
    "print(\"Donation staging table (donation_stg) loaded.\")\n"
   ]
  },
  {
   "cell_type": "markdown",
   "metadata": {},
   "source": [
    "### Loading Donation Table in the Donation Database"
   ]
  },
  {
   "cell_type": "code",
   "execution_count": 32,
   "metadata": {},
   "outputs": [
    {
     "name": "stdout",
     "output_type": "stream",
     "text": [
      "Connected to database.\n"
     ]
    }
   ],
   "source": [
    "# connect to donation_db\n",
    "donation_db = \"donation_db\"\n",
    "\n",
    "engine = create_engine(\"mysql+pymysql://{user}:{pw}@{host}/{db}\"\n",
    "                       .format(host=host_name, db=donation_db, user=u_name, pw=pwd))\n",
    "\n",
    "connection = mysql.connector.connect(user=u_name, password=pwd,host= host_name, port ='3306')\n",
    "\n",
    "print('Connected to database.')\n",
    "cursor = connection.cursor()"
   ]
  },
  {
   "cell_type": "code",
   "execution_count": 33,
   "metadata": {},
   "outputs": [
    {
     "name": "stdout",
     "output_type": "stream",
     "text": [
      "Donation dimension table (dim_donation) in donation database (donation_db) loaded.\n",
      "Date dimension table (dim_date) in donation database (donation_db) loaded.\n",
      "Donor dimension table (dim_donor) in donation database (donation_db) loaded.\n",
      "College dimension table (dim_college) in donation database (donation_db) loaded.\n",
      "Designation dimension table (dim_designation) in donation database (donation_db) loaded.\n",
      "Location dimension table (dim_location) in donation database (donation_db) loaded.\n",
      "Donation fact table (donation_fact) in donation database (donation_db) loaded.\n"
     ]
    }
   ],
   "source": [
    "# call stored procedures to load dimenstions in donation_db\n",
    "connection.commit()\n",
    "cursor.callproc('donation_db.load_dim_donation')\n",
    "print(\"Donation dimension table (dim_donation) in donation database (donation_db) loaded.\")\n",
    "\n",
    "connection.commit()\n",
    "cursor.callproc('donation_db.load_dim_date')\n",
    "print(\"Date dimension table (dim_date) in donation database (donation_db) loaded.\")\n",
    "\n",
    "connection.commit()\n",
    "cursor.callproc('donation_db.load_dim_donor')\n",
    "print(\"Donor dimension table (dim_donor) in donation database (donation_db) loaded.\")\n",
    "\n",
    "connection.commit()\n",
    "cursor.callproc('donation_db.load_dim_college')\n",
    "print(\"College dimension table (dim_college) in donation database (donation_db) loaded.\")\n",
    "\n",
    "connection.commit()\n",
    "cursor.callproc('donation_db.load_dim_designation')\n",
    "print(\"Designation dimension table (dim_designation) in donation database (donation_db) loaded.\")\n",
    "\n",
    "connection.commit()\n",
    "cursor.callproc('donation_db.load_dim_loc')\n",
    "print(\"Location dimension table (dim_location) in donation database (donation_db) loaded.\")\n",
    "\n",
    "#call stored procedures to load fact table in donation_db\n",
    "connection.commit()\n",
    "cursor.callproc('donation_db.load_donation_fact')\n",
    "print(\"Donation fact table (donation_fact) in donation database (donation_db) loaded.\")\n"
   ]
  },
  {
   "cell_type": "code",
   "execution_count": 34,
   "metadata": {},
   "outputs": [
    {
     "name": "stdout",
     "output_type": "stream",
     "text": [
      "Disconnected from database.\n"
     ]
    }
   ],
   "source": [
    "# commiting and closing database connection\n",
    "connection.commit()\n",
    "connection.close()\n",
    "print('Disconnected from database.')"
   ]
  },
  {
   "cell_type": "code",
   "execution_count": null,
   "metadata": {},
   "outputs": [],
   "source": []
  }
 ],
 "metadata": {
  "kernelspec": {
   "display_name": "Python 3",
   "language": "python",
   "name": "python3"
  },
  "language_info": {
   "codemirror_mode": {
    "name": "ipython",
    "version": 3
   },
   "file_extension": ".py",
   "mimetype": "text/x-python",
   "name": "python",
   "nbconvert_exporter": "python",
   "pygments_lexer": "ipython3",
   "version": "3.8.3"
  }
 },
 "nbformat": 4,
 "nbformat_minor": 2
}
