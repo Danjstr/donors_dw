{
 "cells": [
  {
   "cell_type": "markdown",
   "metadata": {},
   "source": [
    "### <div style=\"text-align:center\">Onboarding Historical Stats</div>"
   ]
  },
  {
   "cell_type": "code",
   "execution_count": 24,
   "metadata": {
    "id": "TkiPHRTpDvk4"
   },
   "outputs": [
    {
     "name": "stderr",
     "output_type": "stream",
     "text": [
      "C:\\Users\\PC\\anaconda3\\lib\\site-packages\\requests\\__init__.py:89: RequestsDependencyWarning: urllib3 (1.26.3) or chardet (3.0.4) doesn't match a supported version!\n",
      "  warnings.warn(\"urllib3 ({}) or chardet ({}) doesn't match a supported \"\n"
     ]
    }
   ],
   "source": [
    "# importing required libraries\n",
    "import pandas as pd\n",
    "import mysql.connector\n",
    "import pymysql\n",
    "from mysql.connector import errorcode\n",
    "from sqlalchemy import create_engine\n",
    "import boto3\n",
    "import s3fs\n",
    "import datetime as dt\n",
    "from datetime import datetime\n",
    "import json\n"
   ]
  },
  {
   "cell_type": "markdown",
   "metadata": {},
   "source": [
    "## Home Value"
   ]
  },
  {
   "cell_type": "code",
   "execution_count": 25,
   "metadata": {},
   "outputs": [],
   "source": [
    "#Bringing json file from Github bucket\n",
    "path = r'https://raw.githubusercontent.com/jaynuel/donors_dw/main/C__Users_elham_Desktop_New_value.json'\n",
    "homeval_df = pd.read_json(path)"
   ]
  },
  {
   "cell_type": "code",
   "execution_count": 26,
   "metadata": {
    "scrolled": true
   },
   "outputs": [
    {
     "data": {
      "text/html": [
       "<div>\n",
       "<style scoped>\n",
       "    .dataframe tbody tr th:only-of-type {\n",
       "        vertical-align: middle;\n",
       "    }\n",
       "\n",
       "    .dataframe tbody tr th {\n",
       "        vertical-align: top;\n",
       "    }\n",
       "\n",
       "    .dataframe thead th {\n",
       "        text-align: right;\n",
       "    }\n",
       "</style>\n",
       "<table border=\"1\" class=\"dataframe\">\n",
       "  <thead>\n",
       "    <tr style=\"text-align: right;\">\n",
       "      <th></th>\n",
       "      <th>RegionID</th>\n",
       "      <th>RegionType</th>\n",
       "      <th>State</th>\n",
       "      <th>2016-01-31</th>\n",
       "      <th>2016-02-29</th>\n",
       "      <th>2016-03-31</th>\n",
       "      <th>2016-04-30</th>\n",
       "      <th>2016-05-31</th>\n",
       "      <th>2016-06-30</th>\n",
       "      <th>2016-07-31</th>\n",
       "      <th>...</th>\n",
       "      <th>2020-03-31</th>\n",
       "      <th>2020-04-30</th>\n",
       "      <th>2020-05-31</th>\n",
       "      <th>2020-06-30</th>\n",
       "      <th>2020-07-31</th>\n",
       "      <th>2020-08-31</th>\n",
       "      <th>2020-09-30</th>\n",
       "      <th>2020-10-31</th>\n",
       "      <th>2020-11-30</th>\n",
       "      <th>2020-12-31</th>\n",
       "    </tr>\n",
       "  </thead>\n",
       "  <tbody>\n",
       "    <tr>\n",
       "      <th>0</th>\n",
       "      <td>61639</td>\n",
       "      <td>Zip</td>\n",
       "      <td>NY</td>\n",
       "      <td>1269494.0</td>\n",
       "      <td>1273215.0</td>\n",
       "      <td>1282550.0</td>\n",
       "      <td>1286190.0</td>\n",
       "      <td>1291949.0</td>\n",
       "      <td>1291596.0</td>\n",
       "      <td>1295069.0</td>\n",
       "      <td>...</td>\n",
       "      <td>1129365</td>\n",
       "      <td>1109779</td>\n",
       "      <td>1096961</td>\n",
       "      <td>1091641</td>\n",
       "      <td>1087154</td>\n",
       "      <td>1085121</td>\n",
       "      <td>1086397</td>\n",
       "      <td>1082450</td>\n",
       "      <td>1078831</td>\n",
       "      <td>1074640</td>\n",
       "    </tr>\n",
       "    <tr>\n",
       "      <th>1</th>\n",
       "      <td>84654</td>\n",
       "      <td>Zip</td>\n",
       "      <td>IL</td>\n",
       "      <td>469897.0</td>\n",
       "      <td>474329.0</td>\n",
       "      <td>476976.0</td>\n",
       "      <td>478698.0</td>\n",
       "      <td>478819.0</td>\n",
       "      <td>479880.0</td>\n",
       "      <td>482685.0</td>\n",
       "      <td>...</td>\n",
       "      <td>494846</td>\n",
       "      <td>496392</td>\n",
       "      <td>497102</td>\n",
       "      <td>497724</td>\n",
       "      <td>499152</td>\n",
       "      <td>501262</td>\n",
       "      <td>504040</td>\n",
       "      <td>506695</td>\n",
       "      <td>509141</td>\n",
       "      <td>511452</td>\n",
       "    </tr>\n",
       "    <tr>\n",
       "      <th>2</th>\n",
       "      <td>61637</td>\n",
       "      <td>Zip</td>\n",
       "      <td>NY</td>\n",
       "      <td>1034797.0</td>\n",
       "      <td>1038864.0</td>\n",
       "      <td>1043497.0</td>\n",
       "      <td>1047879.0</td>\n",
       "      <td>1051509.0</td>\n",
       "      <td>1051692.0</td>\n",
       "      <td>1052516.0</td>\n",
       "      <td>...</td>\n",
       "      <td>982331</td>\n",
       "      <td>989847</td>\n",
       "      <td>995933</td>\n",
       "      <td>998619</td>\n",
       "      <td>998643</td>\n",
       "      <td>1001866</td>\n",
       "      <td>1013305</td>\n",
       "      <td>1016169</td>\n",
       "      <td>1014689</td>\n",
       "      <td>1009092</td>\n",
       "    </tr>\n",
       "    <tr>\n",
       "      <th>3</th>\n",
       "      <td>91982</td>\n",
       "      <td>Zip</td>\n",
       "      <td>TX</td>\n",
       "      <td>339150.0</td>\n",
       "      <td>337726.0</td>\n",
       "      <td>336566.0</td>\n",
       "      <td>336298.0</td>\n",
       "      <td>336561.0</td>\n",
       "      <td>335583.0</td>\n",
       "      <td>334445.0</td>\n",
       "      <td>...</td>\n",
       "      <td>337197</td>\n",
       "      <td>337721</td>\n",
       "      <td>338625</td>\n",
       "      <td>339450</td>\n",
       "      <td>340170</td>\n",
       "      <td>341602</td>\n",
       "      <td>343191</td>\n",
       "      <td>345709</td>\n",
       "      <td>348800</td>\n",
       "      <td>353185</td>\n",
       "    </tr>\n",
       "    <tr>\n",
       "      <th>4</th>\n",
       "      <td>84616</td>\n",
       "      <td>Zip</td>\n",
       "      <td>IL</td>\n",
       "      <td>613823.0</td>\n",
       "      <td>618820.0</td>\n",
       "      <td>621776.0</td>\n",
       "      <td>623150.0</td>\n",
       "      <td>622324.0</td>\n",
       "      <td>622913.0</td>\n",
       "      <td>625214.0</td>\n",
       "      <td>...</td>\n",
       "      <td>635835</td>\n",
       "      <td>635617</td>\n",
       "      <td>635861</td>\n",
       "      <td>635967</td>\n",
       "      <td>637199</td>\n",
       "      <td>638751</td>\n",
       "      <td>641622</td>\n",
       "      <td>644350</td>\n",
       "      <td>647291</td>\n",
       "      <td>650118</td>\n",
       "    </tr>\n",
       "  </tbody>\n",
       "</table>\n",
       "<p>5 rows × 63 columns</p>\n",
       "</div>"
      ],
      "text/plain": [
       "   RegionID RegionType State  2016-01-31  2016-02-29  2016-03-31  2016-04-30  \\\n",
       "0     61639        Zip    NY   1269494.0   1273215.0   1282550.0   1286190.0   \n",
       "1     84654        Zip    IL    469897.0    474329.0    476976.0    478698.0   \n",
       "2     61637        Zip    NY   1034797.0   1038864.0   1043497.0   1047879.0   \n",
       "3     91982        Zip    TX    339150.0    337726.0    336566.0    336298.0   \n",
       "4     84616        Zip    IL    613823.0    618820.0    621776.0    623150.0   \n",
       "\n",
       "   2016-05-31  2016-06-30  2016-07-31  ...  2020-03-31  2020-04-30  \\\n",
       "0   1291949.0   1291596.0   1295069.0  ...     1129365     1109779   \n",
       "1    478819.0    479880.0    482685.0  ...      494846      496392   \n",
       "2   1051509.0   1051692.0   1052516.0  ...      982331      989847   \n",
       "3    336561.0    335583.0    334445.0  ...      337197      337721   \n",
       "4    622324.0    622913.0    625214.0  ...      635835      635617   \n",
       "\n",
       "   2020-05-31  2020-06-30  2020-07-31  2020-08-31  2020-09-30  2020-10-31  \\\n",
       "0     1096961     1091641     1087154     1085121     1086397     1082450   \n",
       "1      497102      497724      499152      501262      504040      506695   \n",
       "2      995933      998619      998643     1001866     1013305     1016169   \n",
       "3      338625      339450      340170      341602      343191      345709   \n",
       "4      635861      635967      637199      638751      641622      644350   \n",
       "\n",
       "   2020-11-30  2020-12-31  \n",
       "0     1078831     1074640  \n",
       "1      509141      511452  \n",
       "2     1014689     1009092  \n",
       "3      348800      353185  \n",
       "4      647291      650118  \n",
       "\n",
       "[5 rows x 63 columns]"
      ]
     },
     "execution_count": 26,
     "metadata": {},
     "output_type": "execute_result"
    }
   ],
   "source": [
    "homeval_df.head()"
   ]
  },
  {
   "cell_type": "code",
   "execution_count": 27,
   "metadata": {
    "id": "HMLj3DL3Dvk8"
   },
   "outputs": [],
   "source": [
    "#Renaming RegionID to zip code\n",
    "home_value = homeval_df.rename(columns = {\"RegionID\":\"zip_code\"})"
   ]
  },
  {
   "cell_type": "code",
   "execution_count": 28,
   "metadata": {
    "id": "CnsuT36uDvk8"
   },
   "outputs": [],
   "source": [
    "#Replacing nan values with zero\n",
    "home_value = home_value.fillna(0)"
   ]
  },
  {
   "cell_type": "code",
   "execution_count": 29,
   "metadata": {
    "id": "FdsUr1j9Dvk9"
   },
   "outputs": [],
   "source": [
    "#seprating the dataframe by the year\n",
    "home_value1_2016 = home_value.loc[:,home_value.columns[home_value.columns.str.contains(\"2016\")]]\n",
    "home_value1_2017 = home_value.loc[:,home_value.columns[home_value.columns.str.contains(\"2017\")]]\n",
    "home_value1_2018 = home_value.loc[:,home_value.columns[home_value.columns.str.contains(\"2018\")]]\n",
    "home_value1_2019 = home_value.loc[:,home_value.columns[home_value.columns.str.contains(\"2019\")]]\n",
    "home_value1_2020 = home_value.loc[:,home_value.columns[home_value.columns.str.contains(\"2020\")]]\n"
   ]
  },
  {
   "cell_type": "code",
   "execution_count": 30,
   "metadata": {
    "id": "Y0G4PrXfDvk9"
   },
   "outputs": [],
   "source": [
    "#Finding the maximum home value in each year, adding it as new column\n",
    "home_value[\"2016\"] = home_value1_2016.mean(axis=1)\n",
    "home_value[\"2017\"] = home_value1_2017.mean(axis=1)\n",
    "home_value[\"2018\"] = home_value1_2018.mean(axis=1)\n",
    "home_value[\"2019\"] = home_value1_2019.mean(axis=1)\n",
    "home_value[\"2020\"] = home_value1_2020.mean(axis=1)\n"
   ]
  },
  {
   "cell_type": "code",
   "execution_count": 31,
   "metadata": {
    "id": "LsbGPyPnDvk9"
   },
   "outputs": [],
   "source": [
    "#Keeping column the new column(maximum value) in the dataframe\n",
    "home_value = home_value.drop(['2016-01-31', '2016-02-29', '2016-03-31', '2016-04-30',\n",
    "                                       '2016-05-31', '2016-06-30', '2016-07-31', '2016-08-31', '2016-09-30',\n",
    "                                       '2016-10-31', '2016-11-30', '2016-12-31', '2017-01-31', '2017-02-28', '2017-03-31', '2017-04-30',\n",
    "                                       '2017-05-31', '2017-06-30', '2017-07-31', '2017-08-31', '2017-09-30',\n",
    "                                       '2017-10-31', '2017-11-30', '2017-12-31', '2018-01-31', '2018-02-28', '2018-03-31', '2018-04-30',\n",
    "                                       '2018-05-31', '2018-06-30', '2018-07-31', '2018-08-31', '2018-09-30',\n",
    "                                       '2018-10-31', '2018-11-30', '2018-12-31', '2019-01-31', '2019-02-28', '2019-03-31', '2019-04-30',\n",
    "                                       '2019-05-31', '2019-06-30', '2019-07-31', '2019-08-31', '2019-09-30',\n",
    "                                       '2019-10-31', '2019-11-30', '2019-12-31', '2020-01-31', '2020-02-29', '2020-03-31', '2020-04-30',\n",
    "                                       '2020-05-31', '2020-06-30', '2020-07-31', '2020-08-31', '2020-09-30',\n",
    "                                       '2020-10-31', '2020-11-30', '2020-12-31'], axis = 1)"
   ]
  },
  {
   "cell_type": "code",
   "execution_count": 32,
   "metadata": {
    "scrolled": true
   },
   "outputs": [
    {
     "data": {
      "text/html": [
       "<div>\n",
       "<style scoped>\n",
       "    .dataframe tbody tr th:only-of-type {\n",
       "        vertical-align: middle;\n",
       "    }\n",
       "\n",
       "    .dataframe tbody tr th {\n",
       "        vertical-align: top;\n",
       "    }\n",
       "\n",
       "    .dataframe thead th {\n",
       "        text-align: right;\n",
       "    }\n",
       "</style>\n",
       "<table border=\"1\" class=\"dataframe\">\n",
       "  <thead>\n",
       "    <tr style=\"text-align: right;\">\n",
       "      <th></th>\n",
       "      <th>zip_code</th>\n",
       "      <th>RegionType</th>\n",
       "      <th>State</th>\n",
       "      <th>2016</th>\n",
       "      <th>2017</th>\n",
       "      <th>2018</th>\n",
       "      <th>2019</th>\n",
       "      <th>2020</th>\n",
       "    </tr>\n",
       "  </thead>\n",
       "  <tbody>\n",
       "    <tr>\n",
       "      <th>0</th>\n",
       "      <td>61639</td>\n",
       "      <td>Zip</td>\n",
       "      <td>NY</td>\n",
       "      <td>1.289434e+06</td>\n",
       "      <td>1.248433e+06</td>\n",
       "      <td>1.246884e+06</td>\n",
       "      <td>1.251018e+06</td>\n",
       "      <td>1.104527e+06</td>\n",
       "    </tr>\n",
       "    <tr>\n",
       "      <th>1</th>\n",
       "      <td>84654</td>\n",
       "      <td>Zip</td>\n",
       "      <td>IL</td>\n",
       "      <td>4.818932e+05</td>\n",
       "      <td>4.949477e+05</td>\n",
       "      <td>5.023378e+05</td>\n",
       "      <td>4.966184e+05</td>\n",
       "      <td>5.001468e+05</td>\n",
       "    </tr>\n",
       "    <tr>\n",
       "      <th>2</th>\n",
       "      <td>61637</td>\n",
       "      <td>Zip</td>\n",
       "      <td>NY</td>\n",
       "      <td>1.047808e+06</td>\n",
       "      <td>1.041616e+06</td>\n",
       "      <td>1.034046e+06</td>\n",
       "      <td>9.618970e+05</td>\n",
       "      <td>9.990901e+05</td>\n",
       "    </tr>\n",
       "    <tr>\n",
       "      <th>3</th>\n",
       "      <td>91982</td>\n",
       "      <td>Zip</td>\n",
       "      <td>TX</td>\n",
       "      <td>3.349176e+05</td>\n",
       "      <td>3.324219e+05</td>\n",
       "      <td>3.358542e+05</td>\n",
       "      <td>3.371208e+05</td>\n",
       "      <td>3.416178e+05</td>\n",
       "    </tr>\n",
       "    <tr>\n",
       "      <th>4</th>\n",
       "      <td>84616</td>\n",
       "      <td>Zip</td>\n",
       "      <td>IL</td>\n",
       "      <td>6.254498e+05</td>\n",
       "      <td>6.408441e+05</td>\n",
       "      <td>6.486374e+05</td>\n",
       "      <td>6.415042e+05</td>\n",
       "      <td>6.393060e+05</td>\n",
       "    </tr>\n",
       "  </tbody>\n",
       "</table>\n",
       "</div>"
      ],
      "text/plain": [
       "   zip_code RegionType State          2016          2017          2018  \\\n",
       "0     61639        Zip    NY  1.289434e+06  1.248433e+06  1.246884e+06   \n",
       "1     84654        Zip    IL  4.818932e+05  4.949477e+05  5.023378e+05   \n",
       "2     61637        Zip    NY  1.047808e+06  1.041616e+06  1.034046e+06   \n",
       "3     91982        Zip    TX  3.349176e+05  3.324219e+05  3.358542e+05   \n",
       "4     84616        Zip    IL  6.254498e+05  6.408441e+05  6.486374e+05   \n",
       "\n",
       "           2019          2020  \n",
       "0  1.251018e+06  1.104527e+06  \n",
       "1  4.966184e+05  5.001468e+05  \n",
       "2  9.618970e+05  9.990901e+05  \n",
       "3  3.371208e+05  3.416178e+05  \n",
       "4  6.415042e+05  6.393060e+05  "
      ]
     },
     "execution_count": 32,
     "metadata": {},
     "output_type": "execute_result"
    }
   ],
   "source": [
    "home_value.head()"
   ]
  },
  {
   "cell_type": "code",
   "execution_count": 33,
   "metadata": {},
   "outputs": [
    {
     "data": {
      "text/html": [
       "<div>\n",
       "<style scoped>\n",
       "    .dataframe tbody tr th:only-of-type {\n",
       "        vertical-align: middle;\n",
       "    }\n",
       "\n",
       "    .dataframe tbody tr th {\n",
       "        vertical-align: top;\n",
       "    }\n",
       "\n",
       "    .dataframe thead th {\n",
       "        text-align: right;\n",
       "    }\n",
       "</style>\n",
       "<table border=\"1\" class=\"dataframe\">\n",
       "  <thead>\n",
       "    <tr style=\"text-align: right;\">\n",
       "      <th></th>\n",
       "      <th>zipcode</th>\n",
       "      <th>year</th>\n",
       "      <th>homeval</th>\n",
       "    </tr>\n",
       "  </thead>\n",
       "  <tbody>\n",
       "    <tr>\n",
       "      <th>0</th>\n",
       "      <td>61639</td>\n",
       "      <td>2016</td>\n",
       "      <td>1.289434e+06</td>\n",
       "    </tr>\n",
       "    <tr>\n",
       "      <th>1</th>\n",
       "      <td>84654</td>\n",
       "      <td>2016</td>\n",
       "      <td>4.818932e+05</td>\n",
       "    </tr>\n",
       "    <tr>\n",
       "      <th>2</th>\n",
       "      <td>61637</td>\n",
       "      <td>2016</td>\n",
       "      <td>1.047808e+06</td>\n",
       "    </tr>\n",
       "    <tr>\n",
       "      <th>3</th>\n",
       "      <td>91982</td>\n",
       "      <td>2016</td>\n",
       "      <td>3.349176e+05</td>\n",
       "    </tr>\n",
       "    <tr>\n",
       "      <th>4</th>\n",
       "      <td>84616</td>\n",
       "      <td>2016</td>\n",
       "      <td>6.254498e+05</td>\n",
       "    </tr>\n",
       "  </tbody>\n",
       "</table>\n",
       "</div>"
      ],
      "text/plain": [
       "   zipcode  year       homeval\n",
       "0    61639  2016  1.289434e+06\n",
       "1    84654  2016  4.818932e+05\n",
       "2    61637  2016  1.047808e+06\n",
       "3    91982  2016  3.349176e+05\n",
       "4    84616  2016  6.254498e+05"
      ]
     },
     "execution_count": 33,
     "metadata": {},
     "output_type": "execute_result"
    }
   ],
   "source": [
    "df2016 = home_value[[\"zip_code\", \"2016\"]].rename(columns = {'zip_code':'zipcode', '2016':'homeval'})\n",
    "df2016['year'] = 2016\n",
    "\n",
    "df2017 = home_value[[\"zip_code\", \"2017\"]].rename(columns = {'zip_code':'zipcode', '2017':'homeval'})\n",
    "df2017['year'] = 2017\n",
    "\n",
    "df2018 = home_value[[\"zip_code\", \"2018\"]].rename(columns = {'zip_code':'zipcode', '2018':'homeval'})\n",
    "df2018['year'] = 2018\n",
    "\n",
    "df2019 = home_value[[\"zip_code\", \"2019\"]].rename(columns = {'zip_code':'zipcode', '2019':'homeval'})\n",
    "df2019['year'] = 2019\n",
    "\n",
    "df2020 = home_value[[\"zip_code\", \"2020\"]].rename(columns = {'zip_code':'zipcode', '2020':'homeval'})\n",
    "df2020['year'] = 2020\n",
    "\n",
    "frames = [df2016, df2017, df2018, df2019, df2020]\n",
    "\n",
    "homeval_df = pd.concat(frames)\n",
    "\n",
    "homeval_df = homeval_df[['zipcode', 'year', 'homeval']]\n",
    "homeval_df.head()"
   ]
  },
  {
   "cell_type": "markdown",
   "metadata": {},
   "source": [
    "## Median Income"
   ]
  },
  {
   "cell_type": "code",
   "execution_count": 34,
   "metadata": {
    "colab": {
     "base_uri": "https://localhost:8080/",
     "height": 450
    },
    "id": "59mbljl8Dvk_",
    "outputId": "80bafdb1-be44-40c4-bca3-1ab07ea72740"
   },
   "outputs": [],
   "source": [
    "#Median Household Income for years 2016-2019, adding column year\n",
    "Median_Income_2016 = pd.read_csv(r'https://raw.githubusercontent.com/jaynuel/donors_dw/main/Median%20Income%202016.csv')\n",
    "Median_Income_2016.insert(1, 'Year', 2016)\n",
    "Median_Income_2017 = pd.read_csv(r'https://raw.githubusercontent.com/jaynuel/donors_dw/main/Median%20Income%202017.csv')\n",
    "Median_Income_2017.insert(1, 'Year', 2017)\n",
    "Median_Income_2018 = pd.read_csv(r'https://raw.githubusercontent.com/jaynuel/donors_dw/main/Median%20Income%202018.csv')\n",
    "Median_Income_2018.insert(1, 'Year', 2018)\n",
    "Median_Income_2019 = pd.read_csv(r'https://raw.githubusercontent.com/jaynuel/donors_dw/main/median%20income%202019.csv')\n",
    "Median_Income_2019.insert(1, 'Year', 2019)"
   ]
  },
  {
   "cell_type": "code",
   "execution_count": 35,
   "metadata": {
    "id": "Bc1a808oDvlA"
   },
   "outputs": [],
   "source": [
    "#Making name of dataframe's column extact same so that they can be easily concatenated\n",
    "Median_Income_2016 = Median_Income_2016.rename(columns = {\"Median Household income \" : \"Median_Household_income\"})\n",
    "Median_Income_2017 = Median_Income_2017.rename(columns = {\"Median Household income \" : \"Median_Household_income\"})\n",
    "Median_Income_2018 = Median_Income_2018.rename(columns = {\"Median Household income\" : \"Median_Household_income\"})\n",
    "Median_Income_2019 = Median_Income_2019.rename(columns = {\"Median Household income\" : \"Median_Household_income\"})"
   ]
  },
  {
   "cell_type": "code",
   "execution_count": 36,
   "metadata": {
    "id": "OQL700uhDvlA"
   },
   "outputs": [],
   "source": [
    "#Concatenating the income dataframes so that they are all in the same column\n",
    "frames = [Median_Income_2016, Median_Income_2017, Median_Income_2018, Median_Income_2019]\n",
    "Median_Income = pd.concat(frames)"
   ]
  },
  {
   "cell_type": "code",
   "execution_count": 37,
   "metadata": {
    "id": "b_ziiJdPDvlA"
   },
   "outputs": [],
   "source": [
    "#Dropping null value\n",
    "Median_Income = Median_Income.dropna()"
   ]
  },
  {
   "cell_type": "code",
   "execution_count": 38,
   "metadata": {
    "id": "z1OBcRwADvlA"
   },
   "outputs": [],
   "source": [
    "#Changing name of Zip Code to Zip_Code and datatype for Zip code and year to object\n",
    "Median_Income = Median_Income.rename(columns = {\"Zip Code\": \"Zip_Code\"})\n",
    "Median_Income.Zip_Code = Median_Income.Zip_Code.astype(object)\n",
    "Median_Income.Year = Median_Income.Year.astype(object)\n",
    "#Median_Income['Median_Household_income'] = Median_Income['Median_Household_income'].replace('-', '0')"
   ]
  },
  {
   "cell_type": "code",
   "execution_count": 39,
   "metadata": {
    "id": "QG_jH7mmI71Z"
   },
   "outputs": [],
   "source": [
    "#extract all numeric charecters from the string 'Median_Household_income' and turn it into a float64 \n",
    "Median_Income['Median_Household_income'] = Median_Income['Median_Household_income'].str.extract('(\\d+)', expand=False)\n",
    "Median_Income['Median_Household_income'] = Median_Income['Median_Household_income'].astype(float)"
   ]
  },
  {
   "cell_type": "code",
   "execution_count": 40,
   "metadata": {},
   "outputs": [
    {
     "data": {
      "text/html": [
       "<div>\n",
       "<style scoped>\n",
       "    .dataframe tbody tr th:only-of-type {\n",
       "        vertical-align: middle;\n",
       "    }\n",
       "\n",
       "    .dataframe tbody tr th {\n",
       "        vertical-align: top;\n",
       "    }\n",
       "\n",
       "    .dataframe thead th {\n",
       "        text-align: right;\n",
       "    }\n",
       "</style>\n",
       "<table border=\"1\" class=\"dataframe\">\n",
       "  <thead>\n",
       "    <tr style=\"text-align: right;\">\n",
       "      <th></th>\n",
       "      <th>zipcode</th>\n",
       "      <th>year</th>\n",
       "      <th>median_income</th>\n",
       "    </tr>\n",
       "  </thead>\n",
       "  <tbody>\n",
       "    <tr>\n",
       "      <th>0</th>\n",
       "      <td>601</td>\n",
       "      <td>2016</td>\n",
       "      <td>13283.0</td>\n",
       "    </tr>\n",
       "    <tr>\n",
       "      <th>1</th>\n",
       "      <td>602</td>\n",
       "      <td>2016</td>\n",
       "      <td>18694.0</td>\n",
       "    </tr>\n",
       "  </tbody>\n",
       "</table>\n",
       "</div>"
      ],
      "text/plain": [
       "  zipcode  year  median_income\n",
       "0     601  2016        13283.0\n",
       "1     602  2016        18694.0"
      ]
     },
     "execution_count": 40,
     "metadata": {},
     "output_type": "execute_result"
    }
   ],
   "source": [
    "# confirming updates\n",
    "Median_Income = Median_Income.rename(columns={\"Zip_Code\":\"zipcode\", \"Year\":\"year\", \"Median_Household_income\":\"median_income\"})\n",
    "\n",
    "Median_Income.head(2)"
   ]
  },
  {
   "cell_type": "markdown",
   "metadata": {},
   "source": [
    "## Sending Dataframe to S3 Bucket (Archive)"
   ]
  },
  {
   "cell_type": "code",
   "execution_count": 41,
   "metadata": {},
   "outputs": [],
   "source": [
    "# creating a variable that stores date to be append on the file to be archive\n",
    "today = dt.datetime.today()\n",
    "date = today.strftime(\"%Y%m%d\")"
   ]
  },
  {
   "cell_type": "code",
   "execution_count": 42,
   "metadata": {},
   "outputs": [
    {
     "name": "stdout",
     "output_type": "stream",
     "text": [
      "Successfull uploaded file to location:s3://yu-stats-bucket/homeval/home_value20210506.csv\n"
     ]
    }
   ],
   "source": [
    "#connect and load the stats data file to s3\n",
    "\n",
    "s3pathName = 's3://yu-stats-bucket/homeval/'\n",
    "s3pathName1 = 's3://yu-stats-bucket/income/'\n",
    "FileNameFullPath = 'home_value' \n",
    "FileNameFullPath1 = 'income'\n",
    "filenames3 = \"%s%s%s.csv\"%(s3pathName,FileNameFullPath,date) #name of the filepath and csv file\n",
    "filenames3_1 = \"%s%s%s.csv\"%(s3pathName1,FileNameFullPath1,date) #name of the filepath and csv file\n",
    "\n",
    "\n",
    "# Home values\n",
    "homeval_df.to_csv(filenames3, header=True, line_terminator='\\n') \n",
    "\n",
    "#print success message\n",
    "print(\"Successfull uploaded file to location:\"+str(filenames3))"
   ]
  },
  {
   "cell_type": "code",
   "execution_count": 43,
   "metadata": {},
   "outputs": [
    {
     "name": "stdout",
     "output_type": "stream",
     "text": [
      "Successfull uploaded file to location:s3://yu-stats-bucket/homeval/home_value20210506.csv\n"
     ]
    }
   ],
   "source": [
    "# Median Income\n",
    "Median_Income.to_csv(filenames3_1, header=True, line_terminator='\\n') \n",
    "\n",
    "#print success message\n",
    "print(\"Successfull uploaded file to location:\"+str(filenames3))"
   ]
  },
  {
   "cell_type": "markdown",
   "metadata": {},
   "source": [
    "## Connect to MySQL Workbench"
   ]
  },
  {
   "cell_type": "code",
   "execution_count": 44,
   "metadata": {},
   "outputs": [],
   "source": [
    "# credentials for connecting to MySQL\n",
    "\n",
    "host_name = \"database-1.cvt3j4afpbrp.us-east-1.rds.amazonaws.com\"\n",
    "db_name = \"staging_db\"\n",
    "u_name = \"admin\"\n",
    "pwd = \"Joli2016!\""
   ]
  },
  {
   "cell_type": "code",
   "execution_count": 45,
   "metadata": {},
   "outputs": [
    {
     "name": "stdout",
     "output_type": "stream",
     "text": [
      "Connected to database.\n"
     ]
    }
   ],
   "source": [
    "# create SQLAlchemy engine to connect to MySQL Database\n",
    "engine = create_engine(\"mysql+pymysql://{user}:{pw}@{host}/{db}\"\n",
    "                       .format(host=host_name, db=db_name, user=u_name, pw=pwd))\n",
    "\n",
    "# connect to server\n",
    "connection = mysql.connector.connect(user=u_name, password=pwd,host= host_name, port ='3306')\n",
    "print('Connected to database.')\n",
    "cursor = connection.cursor()"
   ]
  },
  {
   "cell_type": "code",
   "execution_count": 46,
   "metadata": {},
   "outputs": [
    {
     "name": "stdout",
     "output_type": "stream",
     "text": [
      "Home Values staging table (donation_stg) cleared.\n"
     ]
    }
   ],
   "source": [
    "# call store procedure to delete data from the home value staging table\n",
    "cursor.callproc('staging_db.del_homeval')\n",
    "print(\"Home Values staging table (donation_stg) cleared.\")"
   ]
  },
  {
   "cell_type": "code",
   "execution_count": 47,
   "metadata": {},
   "outputs": [
    {
     "name": "stdout",
     "output_type": "stream",
     "text": [
      "Income staging table (donation_stg) cleared.\n"
     ]
    }
   ],
   "source": [
    "# call store procedure to delete data from the donation staging table\n",
    "cursor.callproc('staging_db.del_income')\n",
    "print(\"Income staging table (donation_stg) cleared.\")"
   ]
  },
  {
   "cell_type": "code",
   "execution_count": 51,
   "metadata": {},
   "outputs": [
    {
     "name": "stdout",
     "output_type": "stream",
     "text": [
      "Home value staging table (homeval_stg) loaded.\n"
     ]
    }
   ],
   "source": [
    "# loading the home value staging table (homeval_stg) in the staging database\n",
    "connection.commit()\n",
    "homeval_df.to_sql('homeval_stg', engine, if_exists='append', index=False)\n",
    "print(\"Home value staging table (homeval_stg) loaded.\")\n"
   ]
  },
  {
   "cell_type": "code",
   "execution_count": 52,
   "metadata": {},
   "outputs": [
    {
     "name": "stdout",
     "output_type": "stream",
     "text": [
      "Income staging table (income_stg) loaded.\n"
     ]
    }
   ],
   "source": [
    "# loading the income staging table (income_stg) in the staging database\n",
    "connection.commit()\n",
    "Median_Income.to_sql('income_stg', engine, if_exists='append', index=False)\n",
    "print(\"Income staging table (income_stg) loaded.\")\n"
   ]
  },
  {
   "cell_type": "markdown",
   "metadata": {},
   "source": [
    "### Loading Donation Table in the Donation Database"
   ]
  },
  {
   "cell_type": "code",
   "execution_count": 53,
   "metadata": {},
   "outputs": [
    {
     "name": "stdout",
     "output_type": "stream",
     "text": [
      "Connected to database.\n"
     ]
    }
   ],
   "source": [
    "# connect to stats_db\n",
    "donation_db = \"stats_db\"\n",
    "\n",
    "engine = create_engine(\"mysql+pymysql://{user}:{pw}@{host}/{db}\"\n",
    "                       .format(host=host_name, db=donation_db, user=u_name, pw=pwd))\n",
    "\n",
    "connection = mysql.connector.connect(user=u_name, password=pwd,host= host_name, port ='3306')\n",
    "\n",
    "print('Connected to database.')\n",
    "cursor = connection.cursor()"
   ]
  },
  {
   "cell_type": "code",
   "execution_count": 54,
   "metadata": {},
   "outputs": [
    {
     "name": "stdout",
     "output_type": "stream",
     "text": [
      "Home value dimension table (dim_homeval) in stats database (stats_db) loaded.\n",
      "Income dimension table (dim_income) in stats database (stats_db) loaded.\n",
      "Location dimension table (dim_location) in stats database (stats_db) loaded.\n",
      "Stats Fact table (stats_fact) in stats database (stats_db) loaded.\n"
     ]
    }
   ],
   "source": [
    "# call stored procedures to load dimenstions in stats_db\n",
    "\n",
    "cursor.callproc('stats_db.load_dim_homeval')\n",
    "print(\"Home value dimension table (dim_homeval) in stats database (stats_db) loaded.\")\n",
    "\n",
    "cursor.callproc('stats_db.load_dim_income')\n",
    "print(\"Income dimension table (dim_income) in stats database (stats_db) loaded.\")\n",
    "\n",
    "cursor.callproc('stats_db.load_dim_location')\n",
    "print(\"Location dimension table (dim_location) in stats database (stats_db) loaded.\")\n",
    "\n",
    "cursor.callproc('stats_db.load_stats_fact')\n",
    "print(\"Stats Fact table (stats_fact) in stats database (stats_db) loaded.\")\n"
   ]
  },
  {
   "cell_type": "code",
   "execution_count": 55,
   "metadata": {},
   "outputs": [
    {
     "name": "stdout",
     "output_type": "stream",
     "text": [
      "Disconnected from database.\n"
     ]
    }
   ],
   "source": [
    "# commiting and closing database connection\n",
    "connection.commit()\n",
    "connection.close()\n",
    "print('Disconnected from database.')"
   ]
  },
  {
   "cell_type": "code",
   "execution_count": null,
   "metadata": {},
   "outputs": [],
   "source": []
  }
 ],
 "metadata": {
  "colab": {
   "name": "Copy of Home_value.ipynb",
   "provenance": []
  },
  "kernelspec": {
   "display_name": "Python 3",
   "language": "python",
   "name": "python3"
  },
  "language_info": {
   "codemirror_mode": {
    "name": "ipython",
    "version": 3
   },
   "file_extension": ".py",
   "mimetype": "text/x-python",
   "name": "python",
   "nbconvert_exporter": "python",
   "pygments_lexer": "ipython3",
   "version": "3.8.3"
  }
 },
 "nbformat": 4,
 "nbformat_minor": 1
}
