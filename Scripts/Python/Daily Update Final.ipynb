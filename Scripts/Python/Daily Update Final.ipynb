{
 "cells": [
  {
   "cell_type": "markdown",
   "metadata": {},
   "source": [
    "### <div style=\"text-align:center\">Daily Update</div>"
   ]
  },
  {
   "cell_type": "markdown",
   "metadata": {},
   "source": [
    "Import new daily donation file from folder."
   ]
  },
  {
   "cell_type": "code",
   "execution_count": 25,
   "metadata": {},
   "outputs": [
    {
     "name": "stdout",
     "output_type": "stream",
     "text": [
      "Oldest: Contributions 4.27.2021.csv\n",
      "Newest: Contributions 4.27.2021.csv\n",
      "All by modified oldest to newest: ['Contributions 4.27.2021.csv']\n"
     ]
    }
   ],
   "source": [
    "# importing required libraries\n",
    "import pandas as pd\n",
    "import mysql.connector\n",
    "import pymysql\n",
    "from mysql.connector import errorcode\n",
    "from sqlalchemy import create_engine\n",
    "import boto3\n",
    "import s3fs\n",
    "import datetime as dt\n",
    "from datetime import datetime\n",
    "import os\n",
    "\n",
    "\n",
    "# Insert your path name to the folder where the new daily file is stored.(ex. 'C:\\\\abc\\\\\\')\n",
    "path = r'C:\\\\Users\\\\PC\\\\Desktop\\\\Donors_DW_Daily' \n",
    "\n",
    "os.chdir(path)\n",
    "files = sorted(os.listdir(os.getcwd()), key=os.path.getmtime)\n",
    "\n",
    "oldest = files[0]\n",
    "newest = files[-1]\n",
    "\n",
    "print (\"Oldest:\", oldest)\n",
    "print (\"Newest:\", newest)\n",
    "print (\"All by modified oldest to newest:\", files)\n"
   ]
  },
  {
   "cell_type": "code",
   "execution_count": 26,
   "metadata": {},
   "outputs": [
    {
     "data": {
      "text/html": [
       "<div>\n",
       "<style scoped>\n",
       "    .dataframe tbody tr th:only-of-type {\n",
       "        vertical-align: middle;\n",
       "    }\n",
       "\n",
       "    .dataframe tbody tr th {\n",
       "        vertical-align: top;\n",
       "    }\n",
       "\n",
       "    .dataframe thead th {\n",
       "        text-align: right;\n",
       "    }\n",
       "</style>\n",
       "<table border=\"1\" class=\"dataframe\">\n",
       "  <thead>\n",
       "    <tr style=\"text-align: right;\">\n",
       "      <th></th>\n",
       "      <th>FakeID</th>\n",
       "      <th>PrimaryAffiliation</th>\n",
       "      <th>PersonOrg</th>\n",
       "      <th>City</th>\n",
       "      <th>State</th>\n",
       "      <th>Zip</th>\n",
       "      <th>FiscalYear</th>\n",
       "      <th>ContributionDate</th>\n",
       "      <th>Amount</th>\n",
       "      <th>ContributionType</th>\n",
       "      <th>DesignationCode</th>\n",
       "      <th>DesignationName</th>\n",
       "      <th>VSEPurpose</th>\n",
       "      <th>College</th>\n",
       "      <th>DesignationType</th>\n",
       "      <th>DesignationPurpose</th>\n",
       "      <th>PaymentType</th>\n",
       "    </tr>\n",
       "  </thead>\n",
       "  <tbody>\n",
       "    <tr>\n",
       "      <th>0</th>\n",
       "      <td>832</td>\n",
       "      <td>Alum</td>\n",
       "      <td>P</td>\n",
       "      <td>Teaneck</td>\n",
       "      <td>NJ</td>\n",
       "      <td>7666</td>\n",
       "      <td>2021</td>\n",
       "      <td>4/27/2021</td>\n",
       "      <td>100</td>\n",
       "      <td>Gift</td>\n",
       "      <td>AF00</td>\n",
       "      <td>Yeshiva University Annual Fund</td>\n",
       "      <td>3A01 - Unrestricted</td>\n",
       "      <td>Yeshiva University</td>\n",
       "      <td>Unrestricted</td>\n",
       "      <td>Annual Fund</td>\n",
       "      <td>Lockbox Holding</td>\n",
       "    </tr>\n",
       "    <tr>\n",
       "      <th>1</th>\n",
       "      <td>4428</td>\n",
       "      <td>Parent of Past Student</td>\n",
       "      <td>P</td>\n",
       "      <td>Silver Spring</td>\n",
       "      <td>MD</td>\n",
       "      <td>20910</td>\n",
       "      <td>2021</td>\n",
       "      <td>4/27/2021</td>\n",
       "      <td>1,000</td>\n",
       "      <td>Gift</td>\n",
       "      <td>GU08</td>\n",
       "      <td>RIETS General Unrestricted Fund</td>\n",
       "      <td>3A02 - Academic Divisions</td>\n",
       "      <td>RIETS</td>\n",
       "      <td>Unrestricted</td>\n",
       "      <td>Annual Fund</td>\n",
       "      <td>Lockbox Holding</td>\n",
       "    </tr>\n",
       "    <tr>\n",
       "      <th>2</th>\n",
       "      <td>4938</td>\n",
       "      <td>Parent of Past Student</td>\n",
       "      <td>P</td>\n",
       "      <td>Bronx</td>\n",
       "      <td>NY</td>\n",
       "      <td>10463</td>\n",
       "      <td>2021</td>\n",
       "      <td>4/27/2021</td>\n",
       "      <td>500</td>\n",
       "      <td>Gift</td>\n",
       "      <td>GU00</td>\n",
       "      <td>Yeshiva University General Unrestricted Fund</td>\n",
       "      <td>3A01 - Unrestricted</td>\n",
       "      <td>Yeshiva University</td>\n",
       "      <td>Unrestricted</td>\n",
       "      <td>Annual Fund</td>\n",
       "      <td>Credit Card (VISA)</td>\n",
       "    </tr>\n",
       "    <tr>\n",
       "      <th>3</th>\n",
       "      <td>7938</td>\n",
       "      <td>Alum</td>\n",
       "      <td>P</td>\n",
       "      <td>Teaneck</td>\n",
       "      <td>NJ</td>\n",
       "      <td>7666</td>\n",
       "      <td>2021</td>\n",
       "      <td>4/27/2021</td>\n",
       "      <td>1,000</td>\n",
       "      <td>Gift</td>\n",
       "      <td>GS03</td>\n",
       "      <td>YUHS for Boys General Scholarship Fund</td>\n",
       "      <td>NaN</td>\n",
       "      <td>YU Boys High School</td>\n",
       "      <td>Restricted</td>\n",
       "      <td>Annual Fund</td>\n",
       "      <td>Lockbox Holding</td>\n",
       "    </tr>\n",
       "    <tr>\n",
       "      <th>4</th>\n",
       "      <td>8910</td>\n",
       "      <td>Parent of Past Student</td>\n",
       "      <td>P</td>\n",
       "      <td>New Rochelle</td>\n",
       "      <td>NY</td>\n",
       "      <td>10804</td>\n",
       "      <td>2021</td>\n",
       "      <td>4/27/2021</td>\n",
       "      <td>100</td>\n",
       "      <td>Gift</td>\n",
       "      <td>AF08</td>\n",
       "      <td>RIETS Annual Fund</td>\n",
       "      <td>3A02 - Academic Divisions</td>\n",
       "      <td>RIETS</td>\n",
       "      <td>Unrestricted</td>\n",
       "      <td>Annual Fund</td>\n",
       "      <td>Lockbox Holding</td>\n",
       "    </tr>\n",
       "    <tr>\n",
       "      <th>5</th>\n",
       "      <td>10711</td>\n",
       "      <td>Friend</td>\n",
       "      <td>P</td>\n",
       "      <td>Englewood Cliffs</td>\n",
       "      <td>NJ</td>\n",
       "      <td>7632</td>\n",
       "      <td>2021</td>\n",
       "      <td>4/27/2021</td>\n",
       "      <td>108</td>\n",
       "      <td>Gift</td>\n",
       "      <td>GU08</td>\n",
       "      <td>RIETS General Unrestricted Fund</td>\n",
       "      <td>3A02 - Academic Divisions</td>\n",
       "      <td>RIETS</td>\n",
       "      <td>Unrestricted</td>\n",
       "      <td>Annual Fund</td>\n",
       "      <td>Lockbox Holding</td>\n",
       "    </tr>\n",
       "    <tr>\n",
       "      <th>6</th>\n",
       "      <td>10791</td>\n",
       "      <td>Alum</td>\n",
       "      <td>P</td>\n",
       "      <td>San Diego</td>\n",
       "      <td>CA</td>\n",
       "      <td>92115</td>\n",
       "      <td>2021</td>\n",
       "      <td>4/27/2021</td>\n",
       "      <td>30</td>\n",
       "      <td>Gift</td>\n",
       "      <td>GU08</td>\n",
       "      <td>RIETS General Unrestricted Fund</td>\n",
       "      <td>3A02 - Academic Divisions</td>\n",
       "      <td>RIETS</td>\n",
       "      <td>Unrestricted</td>\n",
       "      <td>Annual Fund</td>\n",
       "      <td>Cash or Check</td>\n",
       "    </tr>\n",
       "    <tr>\n",
       "      <th>7</th>\n",
       "      <td>17279</td>\n",
       "      <td>Alum</td>\n",
       "      <td>P</td>\n",
       "      <td>Teaneck</td>\n",
       "      <td>NJ</td>\n",
       "      <td>7666</td>\n",
       "      <td>2021</td>\n",
       "      <td>4/27/2021</td>\n",
       "      <td>100</td>\n",
       "      <td>Gift</td>\n",
       "      <td>F971</td>\n",
       "      <td>Rabbinic Alumni Services - Dues and Operations</td>\n",
       "      <td>3A02 - Academic Divisions</td>\n",
       "      <td>RIETS</td>\n",
       "      <td>Restricted</td>\n",
       "      <td>NaN</td>\n",
       "      <td>Lockbox Holding</td>\n",
       "    </tr>\n",
       "    <tr>\n",
       "      <th>8</th>\n",
       "      <td>12186</td>\n",
       "      <td>Alum</td>\n",
       "      <td>P</td>\n",
       "      <td>Lawrence</td>\n",
       "      <td>NY</td>\n",
       "      <td>11559</td>\n",
       "      <td>2021</td>\n",
       "      <td>4/27/2021</td>\n",
       "      <td>3,000</td>\n",
       "      <td>Gift</td>\n",
       "      <td>GU08</td>\n",
       "      <td>RIETS General Unrestricted Fund</td>\n",
       "      <td>3A02 - Academic Divisions</td>\n",
       "      <td>RIETS</td>\n",
       "      <td>Unrestricted</td>\n",
       "      <td>Annual Fund</td>\n",
       "      <td>Cash or Check</td>\n",
       "    </tr>\n",
       "    <tr>\n",
       "      <th>9</th>\n",
       "      <td>302</td>\n",
       "      <td>Alum</td>\n",
       "      <td>P</td>\n",
       "      <td>Teaneck</td>\n",
       "      <td>NY</td>\n",
       "      <td>7666</td>\n",
       "      <td>2021</td>\n",
       "      <td>4/27/2021</td>\n",
       "      <td>1,300</td>\n",
       "      <td>Pledge Payment</td>\n",
       "      <td>F971</td>\n",
       "      <td>Rabbinic Alumni Services - Dues and Operations</td>\n",
       "      <td>3A02 - Academic Divisions</td>\n",
       "      <td>RIETS</td>\n",
       "      <td>Restricted</td>\n",
       "      <td>NaN</td>\n",
       "      <td>Lockbox Holding</td>\n",
       "    </tr>\n",
       "    <tr>\n",
       "      <th>10</th>\n",
       "      <td>19668</td>\n",
       "      <td>Corporation</td>\n",
       "      <td>O</td>\n",
       "      <td>Brooklyn</td>\n",
       "      <td>NY</td>\n",
       "      <td>11241</td>\n",
       "      <td>2021</td>\n",
       "      <td>4/27/2021</td>\n",
       "      <td>1,000</td>\n",
       "      <td>Pledge Payment</td>\n",
       "      <td>A130</td>\n",
       "      <td>Hanukkah Dinner Contribution</td>\n",
       "      <td>3B03-09 - Endowment - Other</td>\n",
       "      <td>Yeshiva University</td>\n",
       "      <td>Restricted</td>\n",
       "      <td>NaN</td>\n",
       "      <td>Lockbox Holding</td>\n",
       "    </tr>\n",
       "    <tr>\n",
       "      <th>11</th>\n",
       "      <td>8414</td>\n",
       "      <td>Parent of Past Student</td>\n",
       "      <td>P</td>\n",
       "      <td>Englewood</td>\n",
       "      <td>NJ</td>\n",
       "      <td>7631</td>\n",
       "      <td>2021</td>\n",
       "      <td>4/27/2021</td>\n",
       "      <td>500</td>\n",
       "      <td>Gift</td>\n",
       "      <td>AS00</td>\n",
       "      <td>Yeshiva University Annual Scholarship Fund</td>\n",
       "      <td>3A08 - Student Financial Aid</td>\n",
       "      <td>Yeshiva University</td>\n",
       "      <td>Restricted</td>\n",
       "      <td>Annual Fund</td>\n",
       "      <td>Wire Transfer</td>\n",
       "    </tr>\n",
       "  </tbody>\n",
       "</table>\n",
       "</div>"
      ],
      "text/plain": [
       "    FakeID      PrimaryAffiliation PersonOrg              City State    Zip  \\\n",
       "0      832                    Alum         P           Teaneck    NJ   7666   \n",
       "1     4428  Parent of Past Student         P     Silver Spring    MD  20910   \n",
       "2     4938  Parent of Past Student         P             Bronx    NY  10463   \n",
       "3     7938                    Alum         P           Teaneck    NJ   7666   \n",
       "4     8910  Parent of Past Student         P      New Rochelle    NY  10804   \n",
       "5    10711                  Friend         P  Englewood Cliffs    NJ   7632   \n",
       "6    10791                    Alum         P         San Diego    CA  92115   \n",
       "7    17279                    Alum         P           Teaneck    NJ   7666   \n",
       "8    12186                    Alum         P          Lawrence    NY  11559   \n",
       "9      302                    Alum         P           Teaneck    NY   7666   \n",
       "10   19668             Corporation         O          Brooklyn    NY  11241   \n",
       "11    8414  Parent of Past Student         P         Englewood    NJ   7631   \n",
       "\n",
       "    FiscalYear ContributionDate Amount ContributionType DesignationCode  \\\n",
       "0         2021        4/27/2021    100             Gift            AF00   \n",
       "1         2021        4/27/2021  1,000             Gift            GU08   \n",
       "2         2021        4/27/2021    500             Gift            GU00   \n",
       "3         2021        4/27/2021  1,000             Gift            GS03   \n",
       "4         2021        4/27/2021    100             Gift            AF08   \n",
       "5         2021        4/27/2021    108             Gift            GU08   \n",
       "6         2021        4/27/2021     30             Gift            GU08   \n",
       "7         2021        4/27/2021    100             Gift            F971   \n",
       "8         2021        4/27/2021  3,000             Gift            GU08   \n",
       "9         2021        4/27/2021  1,300   Pledge Payment            F971   \n",
       "10        2021        4/27/2021  1,000   Pledge Payment            A130   \n",
       "11        2021        4/27/2021    500             Gift            AS00   \n",
       "\n",
       "                                   DesignationName  \\\n",
       "0                   Yeshiva University Annual Fund   \n",
       "1                  RIETS General Unrestricted Fund   \n",
       "2     Yeshiva University General Unrestricted Fund   \n",
       "3           YUHS for Boys General Scholarship Fund   \n",
       "4                                RIETS Annual Fund   \n",
       "5                  RIETS General Unrestricted Fund   \n",
       "6                  RIETS General Unrestricted Fund   \n",
       "7   Rabbinic Alumni Services - Dues and Operations   \n",
       "8                  RIETS General Unrestricted Fund   \n",
       "9   Rabbinic Alumni Services - Dues and Operations   \n",
       "10                    Hanukkah Dinner Contribution   \n",
       "11      Yeshiva University Annual Scholarship Fund   \n",
       "\n",
       "                      VSEPurpose              College DesignationType  \\\n",
       "0            3A01 - Unrestricted   Yeshiva University    Unrestricted   \n",
       "1      3A02 - Academic Divisions                RIETS    Unrestricted   \n",
       "2            3A01 - Unrestricted   Yeshiva University    Unrestricted   \n",
       "3                            NaN  YU Boys High School      Restricted   \n",
       "4      3A02 - Academic Divisions                RIETS    Unrestricted   \n",
       "5      3A02 - Academic Divisions                RIETS    Unrestricted   \n",
       "6      3A02 - Academic Divisions                RIETS    Unrestricted   \n",
       "7      3A02 - Academic Divisions                RIETS      Restricted   \n",
       "8      3A02 - Academic Divisions                RIETS    Unrestricted   \n",
       "9      3A02 - Academic Divisions                RIETS      Restricted   \n",
       "10   3B03-09 - Endowment - Other   Yeshiva University      Restricted   \n",
       "11  3A08 - Student Financial Aid   Yeshiva University      Restricted   \n",
       "\n",
       "   DesignationPurpose         PaymentType  \n",
       "0         Annual Fund     Lockbox Holding  \n",
       "1         Annual Fund     Lockbox Holding  \n",
       "2         Annual Fund  Credit Card (VISA)  \n",
       "3         Annual Fund     Lockbox Holding  \n",
       "4         Annual Fund     Lockbox Holding  \n",
       "5         Annual Fund     Lockbox Holding  \n",
       "6         Annual Fund       Cash or Check  \n",
       "7                 NaN     Lockbox Holding  \n",
       "8         Annual Fund       Cash or Check  \n",
       "9                 NaN     Lockbox Holding  \n",
       "10                NaN     Lockbox Holding  \n",
       "11        Annual Fund       Wire Transfer  "
      ]
     },
     "execution_count": 26,
     "metadata": {},
     "output_type": "execute_result"
    }
   ],
   "source": [
    "#Read to csv and make sure the data looks as expected.\n",
    "\n",
    "nd = pd.read_csv(path+'\\\\'+newest)\n",
    "\n",
    "nd"
   ]
  },
  {
   "cell_type": "markdown",
   "metadata": {},
   "source": [
    "Next, clean the daily donor data set."
   ]
  },
  {
   "cell_type": "markdown",
   "metadata": {},
   "source": [
    "Change the colleges 'YU Girls High School' and 'YU Boys High School' to 'High Schools (combined)'"
   ]
  },
  {
   "cell_type": "code",
   "execution_count": 27,
   "metadata": {},
   "outputs": [
    {
     "data": {
      "text/plain": [
       "RIETS                      7\n",
       "Yeshiva University         4\n",
       "High Schools (combined)    1\n",
       "Name: College, dtype: int64"
      ]
     },
     "execution_count": 27,
     "metadata": {},
     "output_type": "execute_result"
    }
   ],
   "source": [
    "nd['College'] = nd['College'].replace(['YU Girls High School','YU Boys High School'],\n",
    "                                    ['High Schools (combined)','High Schools (combined)'])\n",
    "                                                                                 \n",
    "nd['College'].value_counts()"
   ]
  },
  {
   "cell_type": "markdown",
   "metadata": {},
   "source": [
    "Combine the college 'Undergraduate Men' with 'Undergraduate'"
   ]
  },
  {
   "cell_type": "code",
   "execution_count": 28,
   "metadata": {},
   "outputs": [
    {
     "data": {
      "text/plain": [
       "RIETS                      7\n",
       "Yeshiva University         4\n",
       "High Schools (combined)    1\n",
       "Name: College, dtype: int64"
      ]
     },
     "execution_count": 28,
     "metadata": {},
     "output_type": "execute_result"
    }
   ],
   "source": [
    "nd['College'] = nd['College'].replace(['Undergraduate Men'],['Undergraduate'])\n",
    "                                                                                 \n",
    "nd['College'].value_counts()"
   ]
  },
  {
   "cell_type": "markdown",
   "metadata": {},
   "source": [
    "Remove any payment type called \"Goods\".  This refers to payments collected for goods & services which is a used to cover food at an event and cannot be counted as a charitable donation. "
   ]
  },
  {
   "cell_type": "code",
   "execution_count": 29,
   "metadata": {},
   "outputs": [
    {
     "name": "stdout",
     "output_type": "stream",
     "text": [
      "(12, 17)\n"
     ]
    },
    {
     "data": {
      "text/plain": [
       "Lockbox Holding       8\n",
       "Cash or Check         2\n",
       "Wire Transfer         1\n",
       "Credit Card (VISA)    1\n",
       "Name: PaymentType, dtype: int64"
      ]
     },
     "execution_count": 29,
     "metadata": {},
     "output_type": "execute_result"
    }
   ],
   "source": [
    "discard = [\"Goods\"]\n",
    "nd2 = nd[~nd['PaymentType'].str.contains('|'.join(discard))]\n",
    "print (nd2.shape)\n",
    "nd2['PaymentType'].value_counts()"
   ]
  },
  {
   "cell_type": "markdown",
   "metadata": {},
   "source": [
    "Combine payment types where appropriate.<br>\n",
    "1) Combine Cash/Check into Cash or Cash.<br> \n",
    "2) Combine Credit Card (VISA), Credit Card (Master Card), Credit Card (Discover), Credit Card (American Express) into Credit Card. <br>\n",
    "3) Combine Bequest Wired into Bequest Realized.<br> \n",
    "4) Combine Matching Wire Transfer into Matching Gift. <br>\n",
    "5) Combine Canadian Friends of YU into Cash or Check. <br>\n",
    "6) Combine Israel Retained Cash into Cash or Check. <br>\n",
    "7) Combine Canadian Cash into Cash or Check. <br>\n",
    "8) Combine Stock into Stocks and Securities. <br>\n",
    "9) Combine Electronic Funds Transfer into Wire Transfer.<br>"
   ]
  },
  {
   "cell_type": "code",
   "execution_count": 30,
   "metadata": {},
   "outputs": [
    {
     "data": {
      "text/plain": [
       "Lockbox Holding    8\n",
       "Cash or Check      2\n",
       "Credit Card        1\n",
       "Wire Transfer      1\n",
       "Name: PaymentType, dtype: int64"
      ]
     },
     "execution_count": 30,
     "metadata": {},
     "output_type": "execute_result"
    }
   ],
   "source": [
    "nd2['PaymentType'] = nd2['PaymentType'].replace(['Cash/Check','Credit Card (VISA)','Credit Card (Master Card)',\n",
    "                                                 'Credit Card (Discover)','Credit Card (American Express)','Bequest Wired',\n",
    "                                                 'Matching Wire Transfer','Canadian Friends of YU', 'Israel Retained Cash',\n",
    "                                                'Canadian Cash','Stock','Electronic Funds Transfer'],\n",
    "                                                ['Cash or Check','Credit Card','Credit Card','Credit Card','Credit Card',\n",
    "                                                 'Bequest Realized','Matching Gift','Cash or Check','Cash or Check',\n",
    "                                                 'Cash or Check','Stocks and Securities','Wire Transfer'])\n",
    "                                               \n",
    "                                               \n",
    "nd2['PaymentType'].value_counts()"
   ]
  },
  {
   "cell_type": "markdown",
   "metadata": {},
   "source": [
    "## Sending Dataframe to S3 Bucket (Archive)"
   ]
  },
  {
   "cell_type": "code",
   "execution_count": 31,
   "metadata": {},
   "outputs": [],
   "source": [
    "# creating a variable that stores date to be append on the file to be archive\n",
    "today = dt.datetime.today()\n",
    "date = today.strftime(\"%Y%m%d\")"
   ]
  },
  {
   "cell_type": "code",
   "execution_count": 32,
   "metadata": {},
   "outputs": [
    {
     "name": "stdout",
     "output_type": "stream",
     "text": [
      "Successfull uploaded file to location:s3://yu-donation-bucket/donations20210506.csv\n"
     ]
    }
   ],
   "source": [
    "#connect and load the historical data file to s3\n",
    "\n",
    "s3pathName = 's3://yu-donation-bucket/'\n",
    "FileNameFullPath = 'donations' \n",
    "filenames3 = \"%s%s%s.csv\"%(s3pathName,FileNameFullPath,date) #name of the filepath and csv file\n",
    "\n",
    "nd2.to_csv(filenames3, header=True, line_terminator='\\n') \n",
    "\n",
    "#print success message\n",
    "print(\"Successfull uploaded file to location:\"+str(filenames3))"
   ]
  },
  {
   "cell_type": "markdown",
   "metadata": {},
   "source": [
    "## Connect to MySQL Workbench"
   ]
  },
  {
   "cell_type": "code",
   "execution_count": 33,
   "metadata": {},
   "outputs": [],
   "source": [
    "# credentials for connecting to MySQL\n",
    "\n",
    "host_name = \"database-1.cvt3j4afpbrp.us-east-1.rds.amazonaws.com\"\n",
    "db_name = \"staging_db\"\n",
    "u_name = \"admin\"\n",
    "pwd = \"Joli2016!\""
   ]
  },
  {
   "cell_type": "code",
   "execution_count": 34,
   "metadata": {},
   "outputs": [
    {
     "name": "stdout",
     "output_type": "stream",
     "text": [
      "Connected to database.\n"
     ]
    }
   ],
   "source": [
    "# create SQLAlchemy engine to connect to MySQL Database\n",
    "engine = create_engine(\"mysql+pymysql://{user}:{pw}@{host}/{db}\"\n",
    "                       .format(host=host_name, db=db_name, user=u_name, pw=pwd))\n",
    "\n",
    "# connect to server\n",
    "connection = mysql.connector.connect(user=u_name, password=pwd,host= host_name, port ='3306')\n",
    "print('Connected to database.')\n",
    "cursor = connection.cursor()"
   ]
  },
  {
   "cell_type": "markdown",
   "metadata": {},
   "source": [
    "### Loading Donation Staging Table"
   ]
  },
  {
   "cell_type": "code",
   "execution_count": 35,
   "metadata": {},
   "outputs": [
    {
     "name": "stdout",
     "output_type": "stream",
     "text": [
      "Donation staging table (donation_stg) cleared.\n"
     ]
    }
   ],
   "source": [
    "# call store procedure to delete data from the donation staging table\n",
    "cursor.callproc('staging_db.del_donation')\n",
    "print(\"Donation staging table (donation_stg) cleared.\")"
   ]
  },
  {
   "cell_type": "code",
   "execution_count": 36,
   "metadata": {},
   "outputs": [
    {
     "name": "stdout",
     "output_type": "stream",
     "text": [
      "Donation staging table (donation_stg) loaded.\n"
     ]
    }
   ],
   "source": [
    "# loading the donation staging table (donation_stg) in the staging database\n",
    "connection.commit()\n",
    "nd2.to_sql('donation_stg', engine, if_exists='append', index=False)\n",
    "print(\"Donation staging table (donation_stg) loaded.\")\n"
   ]
  },
  {
   "cell_type": "markdown",
   "metadata": {},
   "source": [
    "### Loading Donation Table in the Donation Database"
   ]
  },
  {
   "cell_type": "code",
   "execution_count": 37,
   "metadata": {},
   "outputs": [
    {
     "name": "stdout",
     "output_type": "stream",
     "text": [
      "Connected to database.\n"
     ]
    }
   ],
   "source": [
    "# connect to donation_db\n",
    "donation_db = \"donation_db\"\n",
    "\n",
    "engine = create_engine(\"mysql+pymysql://{user}:{pw}@{host}/{db}\"\n",
    "                       .format(host=host_name, db=donation_db, user=u_name, pw=pwd))\n",
    "\n",
    "connection = mysql.connector.connect(user=u_name, password=pwd,host= host_name, port ='3306')\n",
    "\n",
    "print('Connected to database.')\n",
    "cursor = connection.cursor()"
   ]
  },
  {
   "cell_type": "code",
   "execution_count": 38,
   "metadata": {},
   "outputs": [
    {
     "name": "stdout",
     "output_type": "stream",
     "text": [
      "Donation dimension table (dim_donation) in donation database (donation_db) loaded.\n",
      "Date dimension table (dim_date) in donation database (donation_db) loaded.\n",
      "Donor dimension table (dim_donor) in donation database (donation_db) loaded.\n",
      "College dimension table (dim_college) in donation database (donation_db) loaded.\n",
      "Designation dimension table (dim_designation) in donation database (donation_db) loaded.\n",
      "Location dimension table (dim_location) in donation database (donation_db) loaded.\n",
      "Donation fact table (donation_fact) in donation database (donation_db) loaded.\n"
     ]
    }
   ],
   "source": [
    "# call stored procedures to load dimenstions in donation_db\n",
    "cursor.callproc('donation_db.load_dim_donation')\n",
    "print(\"Donation dimension table (dim_donation) in donation database (donation_db) loaded.\")\n",
    "\n",
    "cursor.callproc('donation_db.load_dim_date')\n",
    "print(\"Date dimension table (dim_date) in donation database (donation_db) loaded.\")\n",
    "\n",
    "cursor.callproc('donation_db.load_dim_donor')\n",
    "print(\"Donor dimension table (dim_donor) in donation database (donation_db) loaded.\")\n",
    "\n",
    "cursor.callproc('donation_db.load_dim_college')\n",
    "print(\"College dimension table (dim_college) in donation database (donation_db) loaded.\")\n",
    "\n",
    "cursor.callproc('donation_db.load_dim_designation')\n",
    "print(\"Designation dimension table (dim_designation) in donation database (donation_db) loaded.\")\n",
    "\n",
    "cursor.callproc('donation_db.load_dim_loc')\n",
    "print(\"Location dimension table (dim_location) in donation database (donation_db) loaded.\")\n",
    "\n",
    "#call stored procedures to load fact table in donation_db\n",
    "cursor.callproc('donation_db.load_donation_fact')\n",
    "print(\"Donation fact table (donation_fact) in donation database (donation_db) loaded.\")\n"
   ]
  },
  {
   "cell_type": "code",
   "execution_count": 39,
   "metadata": {},
   "outputs": [
    {
     "name": "stdout",
     "output_type": "stream",
     "text": [
      "Disconnected from database.\n"
     ]
    }
   ],
   "source": [
    "# commiting and closing database connection\n",
    "connection.commit()\n",
    "connection.close()\n",
    "print('Disconnected from database.')"
   ]
  },
  {
   "cell_type": "code",
   "execution_count": null,
   "metadata": {},
   "outputs": [],
   "source": []
  }
 ],
 "metadata": {
  "kernelspec": {
   "display_name": "Python 3",
   "language": "python",
   "name": "python3"
  },
  "language_info": {
   "codemirror_mode": {
    "name": "ipython",
    "version": 3
   },
   "file_extension": ".py",
   "mimetype": "text/x-python",
   "name": "python",
   "nbconvert_exporter": "python",
   "pygments_lexer": "ipython3",
   "version": "3.8.3"
  }
 },
 "nbformat": 4,
 "nbformat_minor": 2
}
